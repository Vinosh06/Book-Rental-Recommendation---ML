{
 "cells": [
  {
   "cell_type": "markdown",
   "id": "d08ffbb9",
   "metadata": {},
   "source": [
    "# ML Project 6 - Book Rental Recommendation"
   ]
  },
  {
   "cell_type": "markdown",
   "id": "42b38291",
   "metadata": {},
   "source": [
    "# Following operations should be performed:\n",
    "\n",
    "* Read the books dataset and explore it\n",
    "\n",
    "* Clean up NaN values\n",
    "\n",
    "* Read the data where ratings are given by users\n",
    "\n",
    "* Take a quick look at the number of unique users and books\n",
    "\n",
    "* Convert ISBN variables to numeric numbers in the correct order\n",
    "\n",
    "* Convert the user_id variable to numeric numbers in the correct order\n",
    "\n",
    "* Convert both user_id and ISBN to the ordered list, i.e., from 0...n-1\n",
    "\n",
    "* Re-index the columns to build a matrix\n",
    "\n",
    "* Split your data into two sets (training and testing)\n",
    "\n",
    "* Make predictions based on user and item variables\n",
    "\n",
    "* Use RMSE to evaluate the predictions"
   ]
  },
  {
   "cell_type": "code",
   "execution_count": 1,
   "id": "ef1847fd",
   "metadata": {},
   "outputs": [],
   "source": [
    "import numpy as np\n",
    "import pandas as pd\n",
    "import matplotlib.pyplot as plt\n",
    "import seaborn as sns\n",
    "%matplotlib inline\n",
    "import warnings\n",
    "warnings.filterwarnings('ignore')"
   ]
  },
  {
   "cell_type": "markdown",
   "id": "08667e02",
   "metadata": {},
   "source": [
    "# Read the books dataset and explore it"
   ]
  },
  {
   "cell_type": "code",
   "execution_count": 2,
   "id": "4335e838",
   "metadata": {},
   "outputs": [],
   "source": [
    "book = pd.read_csv('BX-Books.csv',encoding='latin-1')"
   ]
  },
  {
   "cell_type": "code",
   "execution_count": 3,
   "id": "1d86baed",
   "metadata": {},
   "outputs": [],
   "source": [
    "user = pd.read_csv('BX-Users.csv',encoding='latin-1')"
   ]
  },
  {
   "cell_type": "code",
   "execution_count": 4,
   "id": "3204e82a",
   "metadata": {},
   "outputs": [],
   "source": [
    "ratings = pd.read_csv('BX-Book-Ratings.csv',encoding='latin-1',nrows=10000)"
   ]
  },
  {
   "cell_type": "markdown",
   "id": "eedd7a38",
   "metadata": {},
   "source": [
    "In Ratings dataset - The first 10000 datasets is only read due to out of memory error"
   ]
  },
  {
   "cell_type": "code",
   "execution_count": 5,
   "id": "29987652",
   "metadata": {},
   "outputs": [
    {
     "data": {
      "text/html": [
       "<div>\n",
       "<style scoped>\n",
       "    .dataframe tbody tr th:only-of-type {\n",
       "        vertical-align: middle;\n",
       "    }\n",
       "\n",
       "    .dataframe tbody tr th {\n",
       "        vertical-align: top;\n",
       "    }\n",
       "\n",
       "    .dataframe thead th {\n",
       "        text-align: right;\n",
       "    }\n",
       "</style>\n",
       "<table border=\"1\" class=\"dataframe\">\n",
       "  <thead>\n",
       "    <tr style=\"text-align: right;\">\n",
       "      <th></th>\n",
       "      <th>user_id</th>\n",
       "      <th>Location</th>\n",
       "      <th>Age</th>\n",
       "    </tr>\n",
       "  </thead>\n",
       "  <tbody>\n",
       "    <tr>\n",
       "      <th>0</th>\n",
       "      <td>1</td>\n",
       "      <td>nyc, new york, usa</td>\n",
       "      <td>NaN</td>\n",
       "    </tr>\n",
       "    <tr>\n",
       "      <th>1</th>\n",
       "      <td>2</td>\n",
       "      <td>stockton, california, usa</td>\n",
       "      <td>18.0</td>\n",
       "    </tr>\n",
       "    <tr>\n",
       "      <th>2</th>\n",
       "      <td>3</td>\n",
       "      <td>moscow, yukon territory, russia</td>\n",
       "      <td>NaN</td>\n",
       "    </tr>\n",
       "    <tr>\n",
       "      <th>3</th>\n",
       "      <td>4</td>\n",
       "      <td>porto, v.n.gaia, portugal</td>\n",
       "      <td>17.0</td>\n",
       "    </tr>\n",
       "    <tr>\n",
       "      <th>4</th>\n",
       "      <td>5</td>\n",
       "      <td>farnborough, hants, united kingdom</td>\n",
       "      <td>NaN</td>\n",
       "    </tr>\n",
       "  </tbody>\n",
       "</table>\n",
       "</div>"
      ],
      "text/plain": [
       "  user_id                            Location   Age\n",
       "0       1                  nyc, new york, usa   NaN\n",
       "1       2           stockton, california, usa  18.0\n",
       "2       3     moscow, yukon territory, russia   NaN\n",
       "3       4           porto, v.n.gaia, portugal  17.0\n",
       "4       5  farnborough, hants, united kingdom   NaN"
      ]
     },
     "execution_count": 5,
     "metadata": {},
     "output_type": "execute_result"
    }
   ],
   "source": [
    "user.head()"
   ]
  },
  {
   "cell_type": "code",
   "execution_count": 6,
   "id": "c845e8b9",
   "metadata": {},
   "outputs": [
    {
     "data": {
      "text/plain": [
       "user_id          0\n",
       "Location         1\n",
       "Age         110763\n",
       "dtype: int64"
      ]
     },
     "execution_count": 6,
     "metadata": {},
     "output_type": "execute_result"
    }
   ],
   "source": [
    "user.isnull().sum()"
   ]
  },
  {
   "cell_type": "code",
   "execution_count": 7,
   "id": "dc9c1cd7",
   "metadata": {},
   "outputs": [
    {
     "data": {
      "text/plain": [
       "(278859, 3)"
      ]
     },
     "execution_count": 7,
     "metadata": {},
     "output_type": "execute_result"
    }
   ],
   "source": [
    "user.shape"
   ]
  },
  {
   "cell_type": "code",
   "execution_count": 8,
   "id": "d3a2e24d",
   "metadata": {},
   "outputs": [
    {
     "data": {
      "text/plain": [
       "user_id      object\n",
       "Location     object\n",
       "Age         float64\n",
       "dtype: object"
      ]
     },
     "execution_count": 8,
     "metadata": {},
     "output_type": "execute_result"
    }
   ],
   "source": [
    "user.dtypes"
   ]
  },
  {
   "cell_type": "code",
   "execution_count": 9,
   "id": "fd0f6c5c",
   "metadata": {},
   "outputs": [
    {
     "name": "stdout",
     "output_type": "stream",
     "text": [
      "<class 'pandas.core.frame.DataFrame'>\n",
      "RangeIndex: 278859 entries, 0 to 278858\n",
      "Data columns (total 3 columns):\n",
      " #   Column    Non-Null Count   Dtype  \n",
      "---  ------    --------------   -----  \n",
      " 0   user_id   278859 non-null  object \n",
      " 1   Location  278858 non-null  object \n",
      " 2   Age       168096 non-null  float64\n",
      "dtypes: float64(1), object(2)\n",
      "memory usage: 6.4+ MB\n"
     ]
    }
   ],
   "source": [
    "user.info()"
   ]
  },
  {
   "cell_type": "code",
   "execution_count": 10,
   "id": "92720ed2",
   "metadata": {},
   "outputs": [
    {
     "data": {
      "text/html": [
       "<div>\n",
       "<style scoped>\n",
       "    .dataframe tbody tr th:only-of-type {\n",
       "        vertical-align: middle;\n",
       "    }\n",
       "\n",
       "    .dataframe tbody tr th {\n",
       "        vertical-align: top;\n",
       "    }\n",
       "\n",
       "    .dataframe thead th {\n",
       "        text-align: right;\n",
       "    }\n",
       "</style>\n",
       "<table border=\"1\" class=\"dataframe\">\n",
       "  <thead>\n",
       "    <tr style=\"text-align: right;\">\n",
       "      <th></th>\n",
       "      <th>Age</th>\n",
       "    </tr>\n",
       "  </thead>\n",
       "  <tbody>\n",
       "    <tr>\n",
       "      <th>count</th>\n",
       "      <td>168096.000000</td>\n",
       "    </tr>\n",
       "    <tr>\n",
       "      <th>mean</th>\n",
       "      <td>34.751434</td>\n",
       "    </tr>\n",
       "    <tr>\n",
       "      <th>std</th>\n",
       "      <td>14.428097</td>\n",
       "    </tr>\n",
       "    <tr>\n",
       "      <th>min</th>\n",
       "      <td>0.000000</td>\n",
       "    </tr>\n",
       "    <tr>\n",
       "      <th>25%</th>\n",
       "      <td>24.000000</td>\n",
       "    </tr>\n",
       "    <tr>\n",
       "      <th>50%</th>\n",
       "      <td>32.000000</td>\n",
       "    </tr>\n",
       "    <tr>\n",
       "      <th>75%</th>\n",
       "      <td>44.000000</td>\n",
       "    </tr>\n",
       "    <tr>\n",
       "      <th>max</th>\n",
       "      <td>244.000000</td>\n",
       "    </tr>\n",
       "  </tbody>\n",
       "</table>\n",
       "</div>"
      ],
      "text/plain": [
       "                 Age\n",
       "count  168096.000000\n",
       "mean       34.751434\n",
       "std        14.428097\n",
       "min         0.000000\n",
       "25%        24.000000\n",
       "50%        32.000000\n",
       "75%        44.000000\n",
       "max       244.000000"
      ]
     },
     "execution_count": 10,
     "metadata": {},
     "output_type": "execute_result"
    }
   ],
   "source": [
    "user.describe()"
   ]
  },
  {
   "cell_type": "markdown",
   "id": "c8d18d84",
   "metadata": {},
   "source": [
    "# Clean up NaN values"
   ]
  },
  {
   "cell_type": "code",
   "execution_count": 11,
   "id": "f44c98b2",
   "metadata": {},
   "outputs": [],
   "source": [
    "user1 = user.dropna()"
   ]
  },
  {
   "cell_type": "code",
   "execution_count": 12,
   "id": "94705a1c",
   "metadata": {},
   "outputs": [
    {
     "data": {
      "text/plain": [
       "user_id     0\n",
       "Location    0\n",
       "Age         0\n",
       "dtype: int64"
      ]
     },
     "execution_count": 12,
     "metadata": {},
     "output_type": "execute_result"
    }
   ],
   "source": [
    "user1.isnull().sum()"
   ]
  },
  {
   "cell_type": "code",
   "execution_count": 13,
   "id": "303cf113",
   "metadata": {},
   "outputs": [
    {
     "data": {
      "text/html": [
       "<div>\n",
       "<style scoped>\n",
       "    .dataframe tbody tr th:only-of-type {\n",
       "        vertical-align: middle;\n",
       "    }\n",
       "\n",
       "    .dataframe tbody tr th {\n",
       "        vertical-align: top;\n",
       "    }\n",
       "\n",
       "    .dataframe thead th {\n",
       "        text-align: right;\n",
       "    }\n",
       "</style>\n",
       "<table border=\"1\" class=\"dataframe\">\n",
       "  <thead>\n",
       "    <tr style=\"text-align: right;\">\n",
       "      <th></th>\n",
       "      <th>isbn</th>\n",
       "      <th>book_title</th>\n",
       "      <th>book_author</th>\n",
       "      <th>year_of_publication</th>\n",
       "      <th>publisher</th>\n",
       "    </tr>\n",
       "  </thead>\n",
       "  <tbody>\n",
       "    <tr>\n",
       "      <th>0</th>\n",
       "      <td>195153448</td>\n",
       "      <td>Classical Mythology</td>\n",
       "      <td>Mark P. O. Morford</td>\n",
       "      <td>2002</td>\n",
       "      <td>Oxford University Press</td>\n",
       "    </tr>\n",
       "    <tr>\n",
       "      <th>1</th>\n",
       "      <td>2005018</td>\n",
       "      <td>Clara Callan</td>\n",
       "      <td>Richard Bruce Wright</td>\n",
       "      <td>2001</td>\n",
       "      <td>HarperFlamingo Canada</td>\n",
       "    </tr>\n",
       "    <tr>\n",
       "      <th>2</th>\n",
       "      <td>60973129</td>\n",
       "      <td>Decision in Normandy</td>\n",
       "      <td>Carlo D'Este</td>\n",
       "      <td>1991</td>\n",
       "      <td>HarperPerennial</td>\n",
       "    </tr>\n",
       "    <tr>\n",
       "      <th>3</th>\n",
       "      <td>374157065</td>\n",
       "      <td>Flu: The Story of the Great Influenza Pandemic...</td>\n",
       "      <td>Gina Bari Kolata</td>\n",
       "      <td>1999</td>\n",
       "      <td>Farrar Straus Giroux</td>\n",
       "    </tr>\n",
       "    <tr>\n",
       "      <th>4</th>\n",
       "      <td>393045218</td>\n",
       "      <td>The Mummies of Urumchi</td>\n",
       "      <td>E. J. W. Barber</td>\n",
       "      <td>1999</td>\n",
       "      <td>W. W. Norton &amp;amp; Company</td>\n",
       "    </tr>\n",
       "  </tbody>\n",
       "</table>\n",
       "</div>"
      ],
      "text/plain": [
       "        isbn                                         book_title  \\\n",
       "0  195153448                                Classical Mythology   \n",
       "1    2005018                                       Clara Callan   \n",
       "2   60973129                               Decision in Normandy   \n",
       "3  374157065  Flu: The Story of the Great Influenza Pandemic...   \n",
       "4  393045218                             The Mummies of Urumchi   \n",
       "\n",
       "            book_author year_of_publication                   publisher  \n",
       "0    Mark P. O. Morford                2002     Oxford University Press  \n",
       "1  Richard Bruce Wright                2001       HarperFlamingo Canada  \n",
       "2          Carlo D'Este                1991             HarperPerennial  \n",
       "3      Gina Bari Kolata                1999        Farrar Straus Giroux  \n",
       "4       E. J. W. Barber                1999  W. W. Norton &amp; Company  "
      ]
     },
     "execution_count": 13,
     "metadata": {},
     "output_type": "execute_result"
    }
   ],
   "source": [
    "book.head()"
   ]
  },
  {
   "cell_type": "code",
   "execution_count": 14,
   "id": "f7f7f4ed",
   "metadata": {},
   "outputs": [
    {
     "data": {
      "text/plain": [
       "(271379, 5)"
      ]
     },
     "execution_count": 14,
     "metadata": {},
     "output_type": "execute_result"
    }
   ],
   "source": [
    "book.shape"
   ]
  },
  {
   "cell_type": "code",
   "execution_count": 15,
   "id": "f977ef76",
   "metadata": {},
   "outputs": [
    {
     "data": {
      "text/plain": [
       "isbn                   object\n",
       "book_title             object\n",
       "book_author            object\n",
       "year_of_publication    object\n",
       "publisher              object\n",
       "dtype: object"
      ]
     },
     "execution_count": 15,
     "metadata": {},
     "output_type": "execute_result"
    }
   ],
   "source": [
    "book.dtypes"
   ]
  },
  {
   "cell_type": "code",
   "execution_count": 16,
   "id": "1caf854a",
   "metadata": {},
   "outputs": [
    {
     "name": "stdout",
     "output_type": "stream",
     "text": [
      "<class 'pandas.core.frame.DataFrame'>\n",
      "RangeIndex: 271379 entries, 0 to 271378\n",
      "Data columns (total 5 columns):\n",
      " #   Column               Non-Null Count   Dtype \n",
      "---  ------               --------------   ----- \n",
      " 0   isbn                 271379 non-null  object\n",
      " 1   book_title           271379 non-null  object\n",
      " 2   book_author          271378 non-null  object\n",
      " 3   year_of_publication  271379 non-null  object\n",
      " 4   publisher            271377 non-null  object\n",
      "dtypes: object(5)\n",
      "memory usage: 10.4+ MB\n"
     ]
    }
   ],
   "source": [
    "book.info()"
   ]
  },
  {
   "cell_type": "code",
   "execution_count": 17,
   "id": "482182a9",
   "metadata": {},
   "outputs": [
    {
     "data": {
      "text/html": [
       "<div>\n",
       "<style scoped>\n",
       "    .dataframe tbody tr th:only-of-type {\n",
       "        vertical-align: middle;\n",
       "    }\n",
       "\n",
       "    .dataframe tbody tr th {\n",
       "        vertical-align: top;\n",
       "    }\n",
       "\n",
       "    .dataframe thead th {\n",
       "        text-align: right;\n",
       "    }\n",
       "</style>\n",
       "<table border=\"1\" class=\"dataframe\">\n",
       "  <thead>\n",
       "    <tr style=\"text-align: right;\">\n",
       "      <th></th>\n",
       "      <th>isbn</th>\n",
       "      <th>book_title</th>\n",
       "      <th>book_author</th>\n",
       "      <th>year_of_publication</th>\n",
       "      <th>publisher</th>\n",
       "    </tr>\n",
       "  </thead>\n",
       "  <tbody>\n",
       "    <tr>\n",
       "      <th>count</th>\n",
       "      <td>271379</td>\n",
       "      <td>271379</td>\n",
       "      <td>271378</td>\n",
       "      <td>271379</td>\n",
       "      <td>271377</td>\n",
       "    </tr>\n",
       "    <tr>\n",
       "      <th>unique</th>\n",
       "      <td>271379</td>\n",
       "      <td>242150</td>\n",
       "      <td>102042</td>\n",
       "      <td>202</td>\n",
       "      <td>16823</td>\n",
       "    </tr>\n",
       "    <tr>\n",
       "      <th>top</th>\n",
       "      <td>195153448</td>\n",
       "      <td>Selected Poems</td>\n",
       "      <td>Agatha Christie</td>\n",
       "      <td>2002</td>\n",
       "      <td>Harlequin</td>\n",
       "    </tr>\n",
       "    <tr>\n",
       "      <th>freq</th>\n",
       "      <td>1</td>\n",
       "      <td>27</td>\n",
       "      <td>632</td>\n",
       "      <td>17145</td>\n",
       "      <td>7535</td>\n",
       "    </tr>\n",
       "  </tbody>\n",
       "</table>\n",
       "</div>"
      ],
      "text/plain": [
       "             isbn      book_title      book_author year_of_publication  \\\n",
       "count      271379          271379           271378              271379   \n",
       "unique     271379          242150           102042                 202   \n",
       "top     195153448  Selected Poems  Agatha Christie                2002   \n",
       "freq            1              27              632               17145   \n",
       "\n",
       "        publisher  \n",
       "count      271377  \n",
       "unique      16823  \n",
       "top     Harlequin  \n",
       "freq         7535  "
      ]
     },
     "execution_count": 17,
     "metadata": {},
     "output_type": "execute_result"
    }
   ],
   "source": [
    "book.describe()"
   ]
  },
  {
   "cell_type": "code",
   "execution_count": 18,
   "id": "7d709d6d",
   "metadata": {},
   "outputs": [
    {
     "data": {
      "text/plain": [
       "isbn                   0\n",
       "book_title             0\n",
       "book_author            1\n",
       "year_of_publication    0\n",
       "publisher              2\n",
       "dtype: int64"
      ]
     },
     "execution_count": 18,
     "metadata": {},
     "output_type": "execute_result"
    }
   ],
   "source": [
    "book.isnull().sum()"
   ]
  },
  {
   "cell_type": "code",
   "execution_count": 19,
   "id": "ea8e8e64",
   "metadata": {},
   "outputs": [],
   "source": [
    "book1 = book.dropna()"
   ]
  },
  {
   "cell_type": "code",
   "execution_count": 20,
   "id": "f6604d6d",
   "metadata": {},
   "outputs": [
    {
     "data": {
      "text/plain": [
       "isbn                   0\n",
       "book_title             0\n",
       "book_author            0\n",
       "year_of_publication    0\n",
       "publisher              0\n",
       "dtype: int64"
      ]
     },
     "execution_count": 20,
     "metadata": {},
     "output_type": "execute_result"
    }
   ],
   "source": [
    "book1.isnull().sum()"
   ]
  },
  {
   "cell_type": "markdown",
   "id": "47a8c227",
   "metadata": {},
   "source": [
    "# Read the data where ratings are given by users"
   ]
  },
  {
   "cell_type": "code",
   "execution_count": 21,
   "id": "90b276e2",
   "metadata": {},
   "outputs": [
    {
     "data": {
      "text/html": [
       "<div>\n",
       "<style scoped>\n",
       "    .dataframe tbody tr th:only-of-type {\n",
       "        vertical-align: middle;\n",
       "    }\n",
       "\n",
       "    .dataframe tbody tr th {\n",
       "        vertical-align: top;\n",
       "    }\n",
       "\n",
       "    .dataframe thead th {\n",
       "        text-align: right;\n",
       "    }\n",
       "</style>\n",
       "<table border=\"1\" class=\"dataframe\">\n",
       "  <thead>\n",
       "    <tr style=\"text-align: right;\">\n",
       "      <th></th>\n",
       "      <th>user_id</th>\n",
       "      <th>isbn</th>\n",
       "      <th>rating</th>\n",
       "    </tr>\n",
       "  </thead>\n",
       "  <tbody>\n",
       "    <tr>\n",
       "      <th>0</th>\n",
       "      <td>276725</td>\n",
       "      <td>034545104X</td>\n",
       "      <td>0</td>\n",
       "    </tr>\n",
       "    <tr>\n",
       "      <th>1</th>\n",
       "      <td>276726</td>\n",
       "      <td>155061224</td>\n",
       "      <td>5</td>\n",
       "    </tr>\n",
       "    <tr>\n",
       "      <th>2</th>\n",
       "      <td>276727</td>\n",
       "      <td>446520802</td>\n",
       "      <td>0</td>\n",
       "    </tr>\n",
       "    <tr>\n",
       "      <th>3</th>\n",
       "      <td>276729</td>\n",
       "      <td>052165615X</td>\n",
       "      <td>3</td>\n",
       "    </tr>\n",
       "    <tr>\n",
       "      <th>4</th>\n",
       "      <td>276729</td>\n",
       "      <td>521795028</td>\n",
       "      <td>6</td>\n",
       "    </tr>\n",
       "  </tbody>\n",
       "</table>\n",
       "</div>"
      ],
      "text/plain": [
       "   user_id        isbn  rating\n",
       "0   276725  034545104X       0\n",
       "1   276726   155061224       5\n",
       "2   276727   446520802       0\n",
       "3   276729  052165615X       3\n",
       "4   276729   521795028       6"
      ]
     },
     "execution_count": 21,
     "metadata": {},
     "output_type": "execute_result"
    }
   ],
   "source": [
    "ratings.head()"
   ]
  },
  {
   "cell_type": "code",
   "execution_count": 22,
   "id": "d70038a1",
   "metadata": {},
   "outputs": [
    {
     "data": {
      "text/plain": [
       "(10000, 3)"
      ]
     },
     "execution_count": 22,
     "metadata": {},
     "output_type": "execute_result"
    }
   ],
   "source": [
    "ratings.shape"
   ]
  },
  {
   "cell_type": "code",
   "execution_count": 23,
   "id": "f14580c6",
   "metadata": {},
   "outputs": [
    {
     "data": {
      "text/plain": [
       "user_id     int64\n",
       "isbn       object\n",
       "rating      int64\n",
       "dtype: object"
      ]
     },
     "execution_count": 23,
     "metadata": {},
     "output_type": "execute_result"
    }
   ],
   "source": [
    "ratings.dtypes"
   ]
  },
  {
   "cell_type": "code",
   "execution_count": 24,
   "id": "26851291",
   "metadata": {},
   "outputs": [
    {
     "name": "stdout",
     "output_type": "stream",
     "text": [
      "<class 'pandas.core.frame.DataFrame'>\n",
      "RangeIndex: 10000 entries, 0 to 9999\n",
      "Data columns (total 3 columns):\n",
      " #   Column   Non-Null Count  Dtype \n",
      "---  ------   --------------  ----- \n",
      " 0   user_id  10000 non-null  int64 \n",
      " 1   isbn     10000 non-null  object\n",
      " 2   rating   10000 non-null  int64 \n",
      "dtypes: int64(2), object(1)\n",
      "memory usage: 234.5+ KB\n"
     ]
    }
   ],
   "source": [
    "ratings.info()"
   ]
  },
  {
   "cell_type": "code",
   "execution_count": 25,
   "id": "8078e045",
   "metadata": {},
   "outputs": [
    {
     "data": {
      "text/html": [
       "<div>\n",
       "<style scoped>\n",
       "    .dataframe tbody tr th:only-of-type {\n",
       "        vertical-align: middle;\n",
       "    }\n",
       "\n",
       "    .dataframe tbody tr th {\n",
       "        vertical-align: top;\n",
       "    }\n",
       "\n",
       "    .dataframe thead th {\n",
       "        text-align: right;\n",
       "    }\n",
       "</style>\n",
       "<table border=\"1\" class=\"dataframe\">\n",
       "  <thead>\n",
       "    <tr style=\"text-align: right;\">\n",
       "      <th></th>\n",
       "      <th>user_id</th>\n",
       "      <th>rating</th>\n",
       "    </tr>\n",
       "  </thead>\n",
       "  <tbody>\n",
       "    <tr>\n",
       "      <th>count</th>\n",
       "      <td>10000.000000</td>\n",
       "      <td>10000.000000</td>\n",
       "    </tr>\n",
       "    <tr>\n",
       "      <th>mean</th>\n",
       "      <td>265844.379600</td>\n",
       "      <td>1.974700</td>\n",
       "    </tr>\n",
       "    <tr>\n",
       "      <th>std</th>\n",
       "      <td>56937.189618</td>\n",
       "      <td>3.424884</td>\n",
       "    </tr>\n",
       "    <tr>\n",
       "      <th>min</th>\n",
       "      <td>2.000000</td>\n",
       "      <td>0.000000</td>\n",
       "    </tr>\n",
       "    <tr>\n",
       "      <th>25%</th>\n",
       "      <td>277478.000000</td>\n",
       "      <td>0.000000</td>\n",
       "    </tr>\n",
       "    <tr>\n",
       "      <th>50%</th>\n",
       "      <td>278418.000000</td>\n",
       "      <td>0.000000</td>\n",
       "    </tr>\n",
       "    <tr>\n",
       "      <th>75%</th>\n",
       "      <td>278418.000000</td>\n",
       "      <td>4.000000</td>\n",
       "    </tr>\n",
       "    <tr>\n",
       "      <th>max</th>\n",
       "      <td>278854.000000</td>\n",
       "      <td>10.000000</td>\n",
       "    </tr>\n",
       "  </tbody>\n",
       "</table>\n",
       "</div>"
      ],
      "text/plain": [
       "             user_id        rating\n",
       "count   10000.000000  10000.000000\n",
       "mean   265844.379600      1.974700\n",
       "std     56937.189618      3.424884\n",
       "min         2.000000      0.000000\n",
       "25%    277478.000000      0.000000\n",
       "50%    278418.000000      0.000000\n",
       "75%    278418.000000      4.000000\n",
       "max    278854.000000     10.000000"
      ]
     },
     "execution_count": 25,
     "metadata": {},
     "output_type": "execute_result"
    }
   ],
   "source": [
    "ratings.describe()"
   ]
  },
  {
   "cell_type": "code",
   "execution_count": 26,
   "id": "5aa5a387",
   "metadata": {},
   "outputs": [
    {
     "data": {
      "text/plain": [
       "user_id    0\n",
       "isbn       0\n",
       "rating     0\n",
       "dtype: int64"
      ]
     },
     "execution_count": 26,
     "metadata": {},
     "output_type": "execute_result"
    }
   ],
   "source": [
    "ratings.isnull().sum()"
   ]
  },
  {
   "cell_type": "code",
   "execution_count": 27,
   "id": "04e4485e",
   "metadata": {},
   "outputs": [],
   "source": [
    "df = pd.merge(ratings,book,on='isbn')"
   ]
  },
  {
   "cell_type": "code",
   "execution_count": 28,
   "id": "b2e4be06",
   "metadata": {},
   "outputs": [
    {
     "data": {
      "text/html": [
       "<div>\n",
       "<style scoped>\n",
       "    .dataframe tbody tr th:only-of-type {\n",
       "        vertical-align: middle;\n",
       "    }\n",
       "\n",
       "    .dataframe tbody tr th {\n",
       "        vertical-align: top;\n",
       "    }\n",
       "\n",
       "    .dataframe thead th {\n",
       "        text-align: right;\n",
       "    }\n",
       "</style>\n",
       "<table border=\"1\" class=\"dataframe\">\n",
       "  <thead>\n",
       "    <tr style=\"text-align: right;\">\n",
       "      <th></th>\n",
       "      <th>user_id</th>\n",
       "      <th>isbn</th>\n",
       "      <th>rating</th>\n",
       "      <th>book_title</th>\n",
       "      <th>book_author</th>\n",
       "      <th>year_of_publication</th>\n",
       "      <th>publisher</th>\n",
       "    </tr>\n",
       "  </thead>\n",
       "  <tbody>\n",
       "    <tr>\n",
       "      <th>0</th>\n",
       "      <td>276725</td>\n",
       "      <td>034545104X</td>\n",
       "      <td>0</td>\n",
       "      <td>Flesh Tones: A Novel</td>\n",
       "      <td>M. J. Rose</td>\n",
       "      <td>2002</td>\n",
       "      <td>Ballantine Books</td>\n",
       "    </tr>\n",
       "    <tr>\n",
       "      <th>1</th>\n",
       "      <td>276726</td>\n",
       "      <td>155061224</td>\n",
       "      <td>5</td>\n",
       "      <td>Rites of Passage</td>\n",
       "      <td>Judith Rae</td>\n",
       "      <td>2001</td>\n",
       "      <td>Heinle</td>\n",
       "    </tr>\n",
       "    <tr>\n",
       "      <th>2</th>\n",
       "      <td>276727</td>\n",
       "      <td>446520802</td>\n",
       "      <td>0</td>\n",
       "      <td>The Notebook</td>\n",
       "      <td>Nicholas Sparks</td>\n",
       "      <td>1996</td>\n",
       "      <td>Warner Books</td>\n",
       "    </tr>\n",
       "    <tr>\n",
       "      <th>3</th>\n",
       "      <td>278418</td>\n",
       "      <td>446520802</td>\n",
       "      <td>0</td>\n",
       "      <td>The Notebook</td>\n",
       "      <td>Nicholas Sparks</td>\n",
       "      <td>1996</td>\n",
       "      <td>Warner Books</td>\n",
       "    </tr>\n",
       "    <tr>\n",
       "      <th>4</th>\n",
       "      <td>276729</td>\n",
       "      <td>052165615X</td>\n",
       "      <td>3</td>\n",
       "      <td>Help!: Level 1</td>\n",
       "      <td>Philip Prowse</td>\n",
       "      <td>1999</td>\n",
       "      <td>Cambridge University Press</td>\n",
       "    </tr>\n",
       "  </tbody>\n",
       "</table>\n",
       "</div>"
      ],
      "text/plain": [
       "   user_id        isbn  rating            book_title      book_author  \\\n",
       "0   276725  034545104X       0  Flesh Tones: A Novel       M. J. Rose   \n",
       "1   276726   155061224       5      Rites of Passage       Judith Rae   \n",
       "2   276727   446520802       0          The Notebook  Nicholas Sparks   \n",
       "3   278418   446520802       0          The Notebook  Nicholas Sparks   \n",
       "4   276729  052165615X       3        Help!: Level 1    Philip Prowse   \n",
       "\n",
       "  year_of_publication                   publisher  \n",
       "0                2002            Ballantine Books  \n",
       "1                2001                      Heinle  \n",
       "2                1996                Warner Books  \n",
       "3                1996                Warner Books  \n",
       "4                1999  Cambridge University Press  "
      ]
     },
     "execution_count": 28,
     "metadata": {},
     "output_type": "execute_result"
    }
   ],
   "source": [
    "df.head()"
   ]
  },
  {
   "cell_type": "markdown",
   "id": "2a81aa4a",
   "metadata": {},
   "source": [
    "# Take a quick look at the number of unique users and books"
   ]
  },
  {
   "cell_type": "code",
   "execution_count": 29,
   "id": "8d576501",
   "metadata": {},
   "outputs": [
    {
     "name": "stdout",
     "output_type": "stream",
     "text": [
      "Number of Unique User : 828\n"
     ]
    }
   ],
   "source": [
    "n_users = df['user_id'].nunique()\n",
    "print('Number of Unique User :',n_users)"
   ]
  },
  {
   "cell_type": "code",
   "execution_count": 30,
   "id": "0dfb023a",
   "metadata": {},
   "outputs": [
    {
     "name": "stdout",
     "output_type": "stream",
     "text": [
      "Number of Unique Books : 8051\n"
     ]
    }
   ],
   "source": [
    "n_books = df['isbn'].nunique()\n",
    "print('Number of Unique Books :',n_books)"
   ]
  },
  {
   "cell_type": "markdown",
   "id": "61ac3828",
   "metadata": {},
   "source": [
    "# Convert ISBN variables to numeric numbers in the correct order"
   ]
  },
  {
   "cell_type": "code",
   "execution_count": 31,
   "id": "4deeb744",
   "metadata": {},
   "outputs": [],
   "source": [
    "isbn_list = df['isbn'].unique()"
   ]
  },
  {
   "cell_type": "code",
   "execution_count": 32,
   "id": "721cfe66",
   "metadata": {},
   "outputs": [
    {
     "name": "stdout",
     "output_type": "stream",
     "text": [
      "Length of isbn list : 8051\n"
     ]
    }
   ],
   "source": [
    "print('Length of isbn list :',len(isbn_list))"
   ]
  },
  {
   "cell_type": "code",
   "execution_count": 33,
   "id": "5719dced",
   "metadata": {},
   "outputs": [],
   "source": [
    "def get_isbn_numeric_id(isbn):\n",
    "    itemindex = np.where(isbn_list==isbn)\n",
    "    return itemindex[0][0]"
   ]
  },
  {
   "cell_type": "markdown",
   "id": "3de30fbb",
   "metadata": {},
   "source": [
    "# Convert the user_id variable to numeric numbers in the correct order"
   ]
  },
  {
   "cell_type": "code",
   "execution_count": 34,
   "id": "1d3ce708",
   "metadata": {},
   "outputs": [],
   "source": [
    "userid_list = df['user_id'].unique()"
   ]
  },
  {
   "cell_type": "code",
   "execution_count": 35,
   "id": "87ae0b24",
   "metadata": {},
   "outputs": [
    {
     "name": "stdout",
     "output_type": "stream",
     "text": [
      "Length of User id list : 828\n"
     ]
    }
   ],
   "source": [
    "print('Length of User id list :',len(userid_list))"
   ]
  },
  {
   "cell_type": "code",
   "execution_count": 36,
   "id": "b073bf9d",
   "metadata": {},
   "outputs": [],
   "source": [
    "def get_user_id_numeric_id(user_id):\n",
    "    itemindex = np.where(userid_list==user_id)\n",
    "    return itemindex[0][0]"
   ]
  },
  {
   "cell_type": "markdown",
   "id": "54b459ba",
   "metadata": {},
   "source": [
    "# Convert both user_id and ISBN to the ordered list, i.e., from 0...n-1"
   ]
  },
  {
   "cell_type": "code",
   "execution_count": 37,
   "id": "575e0e8c",
   "metadata": {},
   "outputs": [],
   "source": [
    "df['user_id_order'] = df['user_id'].apply(get_user_id_numeric_id)"
   ]
  },
  {
   "cell_type": "code",
   "execution_count": 38,
   "id": "ec09cd8d",
   "metadata": {},
   "outputs": [],
   "source": [
    "df['isbn_id'] = df['isbn'].apply(get_isbn_numeric_id)"
   ]
  },
  {
   "cell_type": "code",
   "execution_count": 39,
   "id": "60ee77bb",
   "metadata": {},
   "outputs": [
    {
     "data": {
      "text/html": [
       "<div>\n",
       "<style scoped>\n",
       "    .dataframe tbody tr th:only-of-type {\n",
       "        vertical-align: middle;\n",
       "    }\n",
       "\n",
       "    .dataframe tbody tr th {\n",
       "        vertical-align: top;\n",
       "    }\n",
       "\n",
       "    .dataframe thead th {\n",
       "        text-align: right;\n",
       "    }\n",
       "</style>\n",
       "<table border=\"1\" class=\"dataframe\">\n",
       "  <thead>\n",
       "    <tr style=\"text-align: right;\">\n",
       "      <th></th>\n",
       "      <th>user_id</th>\n",
       "      <th>isbn</th>\n",
       "      <th>rating</th>\n",
       "      <th>book_title</th>\n",
       "      <th>book_author</th>\n",
       "      <th>year_of_publication</th>\n",
       "      <th>publisher</th>\n",
       "      <th>user_id_order</th>\n",
       "      <th>isbn_id</th>\n",
       "    </tr>\n",
       "  </thead>\n",
       "  <tbody>\n",
       "    <tr>\n",
       "      <th>0</th>\n",
       "      <td>276725</td>\n",
       "      <td>034545104X</td>\n",
       "      <td>0</td>\n",
       "      <td>Flesh Tones: A Novel</td>\n",
       "      <td>M. J. Rose</td>\n",
       "      <td>2002</td>\n",
       "      <td>Ballantine Books</td>\n",
       "      <td>0</td>\n",
       "      <td>0</td>\n",
       "    </tr>\n",
       "    <tr>\n",
       "      <th>1</th>\n",
       "      <td>276726</td>\n",
       "      <td>155061224</td>\n",
       "      <td>5</td>\n",
       "      <td>Rites of Passage</td>\n",
       "      <td>Judith Rae</td>\n",
       "      <td>2001</td>\n",
       "      <td>Heinle</td>\n",
       "      <td>1</td>\n",
       "      <td>1</td>\n",
       "    </tr>\n",
       "    <tr>\n",
       "      <th>2</th>\n",
       "      <td>276727</td>\n",
       "      <td>446520802</td>\n",
       "      <td>0</td>\n",
       "      <td>The Notebook</td>\n",
       "      <td>Nicholas Sparks</td>\n",
       "      <td>1996</td>\n",
       "      <td>Warner Books</td>\n",
       "      <td>2</td>\n",
       "      <td>2</td>\n",
       "    </tr>\n",
       "    <tr>\n",
       "      <th>3</th>\n",
       "      <td>278418</td>\n",
       "      <td>446520802</td>\n",
       "      <td>0</td>\n",
       "      <td>The Notebook</td>\n",
       "      <td>Nicholas Sparks</td>\n",
       "      <td>1996</td>\n",
       "      <td>Warner Books</td>\n",
       "      <td>3</td>\n",
       "      <td>2</td>\n",
       "    </tr>\n",
       "    <tr>\n",
       "      <th>4</th>\n",
       "      <td>276729</td>\n",
       "      <td>052165615X</td>\n",
       "      <td>3</td>\n",
       "      <td>Help!: Level 1</td>\n",
       "      <td>Philip Prowse</td>\n",
       "      <td>1999</td>\n",
       "      <td>Cambridge University Press</td>\n",
       "      <td>4</td>\n",
       "      <td>3</td>\n",
       "    </tr>\n",
       "  </tbody>\n",
       "</table>\n",
       "</div>"
      ],
      "text/plain": [
       "   user_id        isbn  rating            book_title      book_author  \\\n",
       "0   276725  034545104X       0  Flesh Tones: A Novel       M. J. Rose   \n",
       "1   276726   155061224       5      Rites of Passage       Judith Rae   \n",
       "2   276727   446520802       0          The Notebook  Nicholas Sparks   \n",
       "3   278418   446520802       0          The Notebook  Nicholas Sparks   \n",
       "4   276729  052165615X       3        Help!: Level 1    Philip Prowse   \n",
       "\n",
       "  year_of_publication                   publisher  user_id_order  isbn_id  \n",
       "0                2002            Ballantine Books              0        0  \n",
       "1                2001                      Heinle              1        1  \n",
       "2                1996                Warner Books              2        2  \n",
       "3                1996                Warner Books              3        2  \n",
       "4                1999  Cambridge University Press              4        3  "
      ]
     },
     "execution_count": 39,
     "metadata": {},
     "output_type": "execute_result"
    }
   ],
   "source": [
    "df.head()"
   ]
  },
  {
   "cell_type": "markdown",
   "id": "385c908e",
   "metadata": {},
   "source": [
    "# Re-index the columns to build a matrix"
   ]
  },
  {
   "cell_type": "code",
   "execution_count": 40,
   "id": "a78b803e",
   "metadata": {},
   "outputs": [],
   "source": [
    "new_col_order = ['user_id_order','isbn_id','rating','book_title','book_author','year_of_publication','publisher','isbn','user_id']"
   ]
  },
  {
   "cell_type": "code",
   "execution_count": 41,
   "id": "54e16ed9",
   "metadata": {},
   "outputs": [
    {
     "data": {
      "text/html": [
       "<div>\n",
       "<style scoped>\n",
       "    .dataframe tbody tr th:only-of-type {\n",
       "        vertical-align: middle;\n",
       "    }\n",
       "\n",
       "    .dataframe tbody tr th {\n",
       "        vertical-align: top;\n",
       "    }\n",
       "\n",
       "    .dataframe thead th {\n",
       "        text-align: right;\n",
       "    }\n",
       "</style>\n",
       "<table border=\"1\" class=\"dataframe\">\n",
       "  <thead>\n",
       "    <tr style=\"text-align: right;\">\n",
       "      <th></th>\n",
       "      <th>user_id_order</th>\n",
       "      <th>isbn_id</th>\n",
       "      <th>rating</th>\n",
       "      <th>book_title</th>\n",
       "      <th>book_author</th>\n",
       "      <th>year_of_publication</th>\n",
       "      <th>publisher</th>\n",
       "      <th>isbn</th>\n",
       "      <th>user_id</th>\n",
       "    </tr>\n",
       "  </thead>\n",
       "  <tbody>\n",
       "    <tr>\n",
       "      <th>0</th>\n",
       "      <td>0</td>\n",
       "      <td>0</td>\n",
       "      <td>0</td>\n",
       "      <td>Flesh Tones: A Novel</td>\n",
       "      <td>M. J. Rose</td>\n",
       "      <td>2002</td>\n",
       "      <td>Ballantine Books</td>\n",
       "      <td>034545104X</td>\n",
       "      <td>276725</td>\n",
       "    </tr>\n",
       "    <tr>\n",
       "      <th>1</th>\n",
       "      <td>1</td>\n",
       "      <td>1</td>\n",
       "      <td>5</td>\n",
       "      <td>Rites of Passage</td>\n",
       "      <td>Judith Rae</td>\n",
       "      <td>2001</td>\n",
       "      <td>Heinle</td>\n",
       "      <td>155061224</td>\n",
       "      <td>276726</td>\n",
       "    </tr>\n",
       "    <tr>\n",
       "      <th>2</th>\n",
       "      <td>2</td>\n",
       "      <td>2</td>\n",
       "      <td>0</td>\n",
       "      <td>The Notebook</td>\n",
       "      <td>Nicholas Sparks</td>\n",
       "      <td>1996</td>\n",
       "      <td>Warner Books</td>\n",
       "      <td>446520802</td>\n",
       "      <td>276727</td>\n",
       "    </tr>\n",
       "    <tr>\n",
       "      <th>3</th>\n",
       "      <td>3</td>\n",
       "      <td>2</td>\n",
       "      <td>0</td>\n",
       "      <td>The Notebook</td>\n",
       "      <td>Nicholas Sparks</td>\n",
       "      <td>1996</td>\n",
       "      <td>Warner Books</td>\n",
       "      <td>446520802</td>\n",
       "      <td>278418</td>\n",
       "    </tr>\n",
       "    <tr>\n",
       "      <th>4</th>\n",
       "      <td>4</td>\n",
       "      <td>3</td>\n",
       "      <td>3</td>\n",
       "      <td>Help!: Level 1</td>\n",
       "      <td>Philip Prowse</td>\n",
       "      <td>1999</td>\n",
       "      <td>Cambridge University Press</td>\n",
       "      <td>052165615X</td>\n",
       "      <td>276729</td>\n",
       "    </tr>\n",
       "  </tbody>\n",
       "</table>\n",
       "</div>"
      ],
      "text/plain": [
       "   user_id_order  isbn_id  rating            book_title      book_author  \\\n",
       "0              0        0       0  Flesh Tones: A Novel       M. J. Rose   \n",
       "1              1        1       5      Rites of Passage       Judith Rae   \n",
       "2              2        2       0          The Notebook  Nicholas Sparks   \n",
       "3              3        2       0          The Notebook  Nicholas Sparks   \n",
       "4              4        3       3        Help!: Level 1    Philip Prowse   \n",
       "\n",
       "  year_of_publication                   publisher        isbn  user_id  \n",
       "0                2002            Ballantine Books  034545104X   276725  \n",
       "1                2001                      Heinle   155061224   276726  \n",
       "2                1996                Warner Books   446520802   276727  \n",
       "3                1996                Warner Books   446520802   278418  \n",
       "4                1999  Cambridge University Press  052165615X   276729  "
      ]
     },
     "execution_count": 41,
     "metadata": {},
     "output_type": "execute_result"
    }
   ],
   "source": [
    "df = df.reindex(columns=new_col_order)\n",
    "df.head()"
   ]
  },
  {
   "cell_type": "markdown",
   "id": "76e3e621",
   "metadata": {},
   "source": [
    "# Split your data into two sets (training and testing)"
   ]
  },
  {
   "cell_type": "code",
   "execution_count": 42,
   "id": "6f43b608",
   "metadata": {},
   "outputs": [],
   "source": [
    "from sklearn.model_selection import train_test_split"
   ]
  },
  {
   "cell_type": "code",
   "execution_count": 43,
   "id": "167a7343",
   "metadata": {},
   "outputs": [],
   "source": [
    "train_data,test_data = train_test_split(df,test_size=0.30)"
   ]
  },
  {
   "cell_type": "code",
   "execution_count": 44,
   "id": "5a8dce3d",
   "metadata": {},
   "outputs": [],
   "source": [
    "train_data_matrix = np.zeros((n_users,n_books))"
   ]
  },
  {
   "cell_type": "code",
   "execution_count": 45,
   "id": "9621a187",
   "metadata": {},
   "outputs": [],
   "source": [
    "for line in train_data.itertuples():\n",
    "    train_data_matrix[line[1]-1,line[2]-1] = line[3]"
   ]
  },
  {
   "cell_type": "code",
   "execution_count": 46,
   "id": "e9d03010",
   "metadata": {},
   "outputs": [],
   "source": [
    "test_data_matrix = np.zeros((n_users,n_books))"
   ]
  },
  {
   "cell_type": "code",
   "execution_count": 47,
   "id": "743c1496",
   "metadata": {},
   "outputs": [],
   "source": [
    "for line in test_data.itertuples():\n",
    "    test_data_matrix[line[1]-1,line[2]-1] = line[3]"
   ]
  },
  {
   "cell_type": "code",
   "execution_count": 48,
   "id": "9c9f940d",
   "metadata": {},
   "outputs": [],
   "source": [
    "from sklearn.metrics.pairwise import pairwise_distances"
   ]
  },
  {
   "cell_type": "code",
   "execution_count": 49,
   "id": "b6ed0d34",
   "metadata": {},
   "outputs": [],
   "source": [
    "user_similarity = pairwise_distances(train_data_matrix,metric='cosine')\n",
    "item_similarity = pairwise_distances(train_data_matrix.T,metric='cosine')"
   ]
  },
  {
   "cell_type": "code",
   "execution_count": 50,
   "id": "41d7752b",
   "metadata": {},
   "outputs": [
    {
     "data": {
      "text/plain": [
       "array([[0., 1., 1., ..., 1., 1., 1.],\n",
       "       [1., 0., 1., ..., 1., 1., 1.],\n",
       "       [1., 1., 0., ..., 1., 1., 1.],\n",
       "       ...,\n",
       "       [1., 1., 1., ..., 0., 1., 1.],\n",
       "       [1., 1., 1., ..., 1., 0., 1.],\n",
       "       [1., 1., 1., ..., 1., 1., 0.]])"
      ]
     },
     "execution_count": 50,
     "metadata": {},
     "output_type": "execute_result"
    }
   ],
   "source": [
    "user_similarity"
   ]
  },
  {
   "cell_type": "code",
   "execution_count": 51,
   "id": "3158dbbc",
   "metadata": {},
   "outputs": [
    {
     "data": {
      "text/plain": [
       "array([[0., 1., 1., ..., 1., 1., 1.],\n",
       "       [1., 0., 1., ..., 1., 1., 1.],\n",
       "       [1., 1., 0., ..., 1., 1., 1.],\n",
       "       ...,\n",
       "       [1., 1., 1., ..., 0., 1., 1.],\n",
       "       [1., 1., 1., ..., 1., 0., 1.],\n",
       "       [1., 1., 1., ..., 1., 1., 0.]])"
      ]
     },
     "execution_count": 51,
     "metadata": {},
     "output_type": "execute_result"
    }
   ],
   "source": [
    "item_similarity"
   ]
  },
  {
   "cell_type": "markdown",
   "id": "97510eaf",
   "metadata": {},
   "source": [
    "# Make predictions based on user and item variables"
   ]
  },
  {
   "cell_type": "code",
   "execution_count": 52,
   "id": "4424608b",
   "metadata": {},
   "outputs": [],
   "source": [
    "def predict(ratings, similarity, type='user'):\n",
    "    if type == 'user':\n",
    "        mean_user_rating = ratings.mean(axis=1)\n",
    "        ratings_diff = (ratings - mean_user_rating[:, np.newaxis])\n",
    "        pred = mean_user_rating[:,np.newaxis] + similarity.dot(ratings_diff) / np.array([np.abs(similarity).sum(axis=1)]).T\n",
    "    elif type == 'item':\n",
    "        pred = ratings.dot(similarity) / np.array([np.abs(similarity).sum(axis=1)])\n",
    "    return pred"
   ]
  },
  {
   "cell_type": "code",
   "execution_count": 53,
   "id": "28ecaaab",
   "metadata": {},
   "outputs": [],
   "source": [
    "item_prediction = predict(train_data_matrix,item_similarity,type='item')"
   ]
  },
  {
   "cell_type": "code",
   "execution_count": 54,
   "id": "3b87f8e7",
   "metadata": {},
   "outputs": [],
   "source": [
    "user_prediction = predict(train_data_matrix,user_similarity,type='user')"
   ]
  },
  {
   "cell_type": "markdown",
   "id": "0e654079",
   "metadata": {},
   "source": [
    "# Use RMSE to evaluate the predictions"
   ]
  },
  {
   "cell_type": "code",
   "execution_count": 55,
   "id": "2a9e8c58",
   "metadata": {},
   "outputs": [],
   "source": [
    "from sklearn.metrics import mean_squared_error\n",
    "import math"
   ]
  },
  {
   "cell_type": "code",
   "execution_count": 56,
   "id": "8b27611d",
   "metadata": {},
   "outputs": [],
   "source": [
    "def rmse(prediction, ground_truth):\n",
    "    prediction = prediction[ground_truth.nonzero()].flatten()\n",
    "    ground_truth = ground_truth[ground_truth.nonzero()].flatten()\n",
    "    return np.sqrt(mean_squared_error(prediction,ground_truth))"
   ]
  },
  {
   "cell_type": "code",
   "execution_count": 57,
   "id": "8125d32b",
   "metadata": {},
   "outputs": [
    {
     "name": "stdout",
     "output_type": "stream",
     "text": [
      "User-based collaborative filtering RMSE : 7.620289671855066\n"
     ]
    }
   ],
   "source": [
    "print('User-based collaborative filtering RMSE :',rmse(user_prediction,test_data_matrix))"
   ]
  },
  {
   "cell_type": "code",
   "execution_count": 58,
   "id": "969878f1",
   "metadata": {},
   "outputs": [
    {
     "name": "stdout",
     "output_type": "stream",
     "text": [
      "Item-based collaborative filtering RMSE : 7.619726712253677\n"
     ]
    }
   ],
   "source": [
    "print('Item-based collaborative filtering RMSE :',rmse(item_prediction,test_data_matrix))"
   ]
  },
  {
   "cell_type": "markdown",
   "id": "cde2687c",
   "metadata": {},
   "source": [
    "### Both the approach yield almost has the same results"
   ]
  },
  {
   "cell_type": "code",
   "execution_count": null,
   "id": "caade912",
   "metadata": {},
   "outputs": [],
   "source": []
  }
 ],
 "metadata": {
  "kernelspec": {
   "display_name": "Python 3 (ipykernel)",
   "language": "python",
   "name": "python3"
  },
  "language_info": {
   "codemirror_mode": {
    "name": "ipython",
    "version": 3
   },
   "file_extension": ".py",
   "mimetype": "text/x-python",
   "name": "python",
   "nbconvert_exporter": "python",
   "pygments_lexer": "ipython3",
   "version": "3.9.13"
  }
 },
 "nbformat": 4,
 "nbformat_minor": 5
}
